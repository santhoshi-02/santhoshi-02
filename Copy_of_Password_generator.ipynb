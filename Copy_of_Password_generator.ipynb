{
  "nbformat": 4,
  "nbformat_minor": 0,
  "metadata": {
    "colab": {
      "provenance": [],
      "include_colab_link": true
    },
    "kernelspec": {
      "name": "python3",
      "display_name": "Python 3"
    },
    "language_info": {
      "name": "python"
    }
  },
  "cells": [
    {
      "cell_type": "markdown",
      "metadata": {
        "id": "view-in-github",
        "colab_type": "text"
      },
      "source": [
        "<a href=\"https://colab.research.google.com/github/santhoshi-02/santhoshi-02/blob/main/Copy_of_Password_generator.ipynb\" target=\"_parent\"><img src=\"https://colab.research.google.com/assets/colab-badge.svg\" alt=\"Open In Colab\"/></a>"
      ]
    },
    {
      "cell_type": "code",
      "source": [
        "def simplify_digit(num):\n",
        "    return (num - 1) % 9 + 1 if num != 0 else 0\n",
        "\n",
        "def generate_password(number, name):\n",
        "    try:\n",
        "\n",
        "        num_sci_notation = \"{:e}\".format(float(number))\n",
        "\n",
        "\n",
        "        coefficient, exponent = map(str, num_sci_notation.split('e'))\n",
        "\n",
        "\n",
        "        simplified_coefficient = ''.join(map(lambda x: str(simplify_digit(int(x))), coefficient.replace('.', '')))\n",
        "        simplified_exponent = str(simplify_digit(int(exponent)))\n",
        "\n",
        "\n",
        "        s1 = ''.join(map(lambda x: x[:3], simplified_coefficient))\n",
        "\n",
        "\n",
        "        s2 = ''.join(name[i - 1] for i in range(1, len(name) + 1) if int(simplified_exponent) % 2 != 0)\n",
        "\n",
        "\n",
        "        password = f\"{s1}@{s2}\"\n",
        "\n",
        "        print(password)\n",
        "\n",
        "    except ValueError:\n",
        "        print(\"Invalid input\")\n",
        "\n",
        "\n",
        "T = int(input())\n",
        "for _ in range(T):\n",
        "    number, name = input().split()\n",
        "    generate_password(number, name)"
      ],
      "metadata": {
        "colab": {
          "base_uri": "https://localhost:8080/"
        },
        "id": "jXm-LtV65Vaj",
        "outputId": "73f2048d-7bb1-41b6-f477-28688c3b56b6"
      },
      "execution_count": null,
      "outputs": [
        {
          "output_type": "stream",
          "name": "stdout",
          "text": [
            "2\n",
            "123.456 priya\n",
            "1234560@\n",
            "789.012 Alice\n",
            "7890120@\n"
          ]
        }
      ]
    }
  ]
}